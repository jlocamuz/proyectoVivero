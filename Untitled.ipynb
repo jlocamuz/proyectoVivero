{
 "cells": [
  {
   "cell_type": "code",
   "execution_count": 2,
   "id": "weird-capture",
   "metadata": {},
   "outputs": [],
   "source": [
    "import pandas as pd\n",
    "\n",
    "xls = pd.ExcelFile('comparativo.xlsx')\n",
    "df1 = pd.read_excel(xls, 'Hoja1')"
   ]
  },
  {
   "cell_type": "code",
   "execution_count": 4,
   "id": "included-quality",
   "metadata": {},
   "outputs": [
    {
     "data": {
      "text/html": [
       "<div>\n",
       "<style scoped>\n",
       "    .dataframe tbody tr th:only-of-type {\n",
       "        vertical-align: middle;\n",
       "    }\n",
       "\n",
       "    .dataframe tbody tr th {\n",
       "        vertical-align: top;\n",
       "    }\n",
       "\n",
       "    .dataframe thead th {\n",
       "        text-align: right;\n",
       "    }\n",
       "</style>\n",
       "<table border=\"1\" class=\"dataframe\">\n",
       "  <thead>\n",
       "    <tr style=\"text-align: right;\">\n",
       "      <th></th>\n",
       "      <th>vivero</th>\n",
       "    </tr>\n",
       "  </thead>\n",
       "  <tbody>\n",
       "    <tr>\n",
       "      <th>0</th>\n",
       "      <td>SILVESTRA</td>\n",
       "    </tr>\n",
       "    <tr>\n",
       "      <th>1</th>\n",
       "      <td>VIVERO ARABIA</td>\n",
       "    </tr>\n",
       "    <tr>\n",
       "      <th>2</th>\n",
       "      <td>VIVERO LUJAN</td>\n",
       "    </tr>\n",
       "    <tr>\n",
       "      <th>3</th>\n",
       "      <td>Los Pinos (Lopresti)</td>\n",
       "    </tr>\n",
       "  </tbody>\n",
       "</table>\n",
       "</div>"
      ],
      "text/plain": [
       "                 vivero\n",
       "0             SILVESTRA\n",
       "1         VIVERO ARABIA\n",
       "2          VIVERO LUJAN\n",
       "3  Los Pinos (Lopresti)"
      ]
     },
     "execution_count": 4,
     "metadata": {},
     "output_type": "execute_result"
    }
   ],
   "source": [
    "df1_v = df1['Vivero']\n",
    "lista_viveros = list(set(df1_v.tolist()))\n",
    "df = pd.DataFrame(lista_viveros, columns=[\"vivero\"])\n",
    "df"
   ]
  },
  {
   "cell_type": "code",
   "execution_count": 21,
   "id": "active-integral",
   "metadata": {},
   "outputs": [],
   "source": [
    "df_styled = df.style.apply(lambda x: ['background: yellow' if x == 'VIVERO ARABIA' else 'background: green' for x in df.vivero], axis=0)"
   ]
  },
  {
   "cell_type": "code",
   "execution_count": 22,
   "id": "atmospheric-handle",
   "metadata": {},
   "outputs": [
    {
     "data": {
      "text/html": [
       "<style  type=\"text/css\" >\n",
       "#T_0b106_row0_col0,#T_0b106_row2_col0,#T_0b106_row3_col0{\n",
       "            background:  green;\n",
       "        }#T_0b106_row1_col0{\n",
       "            background:  yellow;\n",
       "        }</style><table id=\"T_0b106_\" ><thead>    <tr>        <th class=\"blank level0\" ></th>        <th class=\"col_heading level0 col0\" >vivero</th>    </tr></thead><tbody>\n",
       "                <tr>\n",
       "                        <th id=\"T_0b106_level0_row0\" class=\"row_heading level0 row0\" >0</th>\n",
       "                        <td id=\"T_0b106_row0_col0\" class=\"data row0 col0\" >SILVESTRA</td>\n",
       "            </tr>\n",
       "            <tr>\n",
       "                        <th id=\"T_0b106_level0_row1\" class=\"row_heading level0 row1\" >1</th>\n",
       "                        <td id=\"T_0b106_row1_col0\" class=\"data row1 col0\" >VIVERO ARABIA</td>\n",
       "            </tr>\n",
       "            <tr>\n",
       "                        <th id=\"T_0b106_level0_row2\" class=\"row_heading level0 row2\" >2</th>\n",
       "                        <td id=\"T_0b106_row2_col0\" class=\"data row2 col0\" >VIVERO LUJAN</td>\n",
       "            </tr>\n",
       "            <tr>\n",
       "                        <th id=\"T_0b106_level0_row3\" class=\"row_heading level0 row3\" >3</th>\n",
       "                        <td id=\"T_0b106_row3_col0\" class=\"data row3 col0\" >Los Pinos (Lopresti)</td>\n",
       "            </tr>\n",
       "    </tbody></table>"
      ],
      "text/plain": [
       "<pandas.io.formats.style.Styler at 0x7f68318d9940>"
      ]
     },
     "execution_count": 22,
     "metadata": {},
     "output_type": "execute_result"
    }
   ],
   "source": [
    "df_styled"
   ]
  },
  {
   "cell_type": "code",
   "execution_count": null,
   "id": "received-miracle",
   "metadata": {},
   "outputs": [],
   "source": []
  }
 ],
 "metadata": {
  "kernelspec": {
   "display_name": "Python 3",
   "language": "python",
   "name": "python3"
  },
  "language_info": {
   "codemirror_mode": {
    "name": "ipython",
    "version": 3
   },
   "file_extension": ".py",
   "mimetype": "text/x-python",
   "name": "python",
   "nbconvert_exporter": "python",
   "pygments_lexer": "ipython3",
   "version": "3.8.10"
  }
 },
 "nbformat": 4,
 "nbformat_minor": 5
}
